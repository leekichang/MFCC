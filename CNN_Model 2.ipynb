{
 "metadata": {
  "language_info": {
   "codemirror_mode": {
    "name": "ipython",
    "version": 3
   },
   "file_extension": ".py",
   "mimetype": "text/x-python",
   "name": "python",
   "nbconvert_exporter": "python",
   "pygments_lexer": "ipython3",
   "version": "3.8.5-final"
  },
  "orig_nbformat": 2,
  "kernelspec": {
   "name": "kc",
   "display_name": "KC",
   "language": "python"
  }
 },
 "nbformat": 4,
 "nbformat_minor": 2,
 "cells": [
  {
   "source": [
    "# 1. File Loading"
   ],
   "cell_type": "markdown",
   "metadata": {}
  },
  {
   "cell_type": "code",
   "execution_count": 1,
   "metadata": {
    "tags": []
   },
   "outputs": [],
   "source": [
    "import torch\n",
    "import pandas as pd\n",
    "import numpy as np\n",
    "import os\n",
    "\n",
    "# load data\n",
    "from torch.utils.data import DataLoader\n",
    "import multiprocessing as mp\n",
    "import time\n",
    "\n",
    "# train\n",
    "from torch import nn\n",
    "from torch.nn import functional as F\n",
    "import torch.nn.init\n",
    "\n",
    "# visualization\n",
    "import matplotlib.pyplot as plt\n",
    "from tensorboardX import SummaryWriter"
   ]
  },
  {
   "cell_type": "code",
   "execution_count": 2,
   "metadata": {},
   "outputs": [],
   "source": [
    "batch_size = 64\n",
    "num_workers = 40\n",
    "writer = SummaryWriter('runs/MFCC')\n",
    "train_set = 'slim_train_set3.csv'\n",
    "test_set = 'slim_test_set3.csv'"
   ]
  },
  {
   "cell_type": "code",
   "execution_count": 3,
   "metadata": {},
   "outputs": [],
   "source": [
    "def read_csv(file_name):\n",
    "    df = pd.read_csv(file_name, header=None)\n",
    "    return df\n",
    "\n",
    "file_list = []\n",
    "for i in range(26):\n",
    "    file_list.append('./separated data1/'+str(i+1)+'.csv')"
   ]
  },
  {
   "cell_type": "code",
   "execution_count": 4,
   "metadata": {
    "tags": []
   },
   "outputs": [
    {
     "output_type": "stream",
     "name": "stdout",
     "text": [
      "Loading data...\n",
      "time : 12.293453931808472\n",
      "data is ready!\n"
     ]
    }
   ],
   "source": [
    "class MFCCDataset(torch.utils.data.Dataset):\n",
    "    def __init__(self, file_list):\n",
    "        pool = mp.Pool(processes = 100)\n",
    "        start = time.time()\n",
    "        self.raw = pd.concat(pool.map(read_csv, file_list))\n",
    "        print(\"time :\", time.time() - start)\n",
    "        pool.close()\n",
    "        pool.join()\n",
    "        \n",
    "        self.label = torch.IntTensor(np.array(self.raw[0].values).reshape(len(self.raw[0].values), 1))\n",
    "        self.len = len(self.label)\n",
    "        self.data = torch.Tensor(np.array(self.raw.loc[:,1:]).reshape(len(self.label),100,500))\n",
    "\n",
    "    def __len__(self):\n",
    "        return self.len\n",
    "\n",
    "    def __getitem__(self, idx):\n",
    "        return self.data[idx], self.label[idx]\n",
    "\n",
    "print(\"Loading data...\")\n",
    "\n",
    "dataset = MFCCDataset(file_list)\n",
    "\n",
    "dataloader = torch.utils.data.DataLoader(\n",
    "   dataset, batch_size = batch_size, num_workers = num_workers, drop_last=True\n",
    ")\n",
    "print(\"data is ready!\")"
   ]
  },
  {
   "source": [
    "# 2. Neural Network"
   ],
   "cell_type": "markdown",
   "metadata": {}
  },
  {
   "cell_type": "code",
   "execution_count": 5,
   "metadata": {
    "tags": []
   },
   "outputs": [
    {
     "output_type": "stream",
     "name": "stdout",
     "text": [
      "다음 기기로 학습합니다: cuda\n"
     ]
    }
   ],
   "source": [
    "import random\n",
    "USE_CUDA = torch.cuda.is_available() # GPU를 사용가능하면 True, 아니라면 False를 리턴\n",
    "device = torch.device(\"cuda\" if USE_CUDA else \"cpu\") # GPU 사용 가능하면 사용하고 아니면 CPU 사용\\\n",
    "print(\"다음 기기로 학습합니다:\", device)\n",
    "random.seed(777)\n",
    "torch.manual_seed(777)\n",
    "if device == 'cuda':\n",
    "    torch.cuda.manual_seed_all(777)"
   ]
  },
  {
   "cell_type": "code",
   "execution_count": 6,
   "metadata": {
    "tags": []
   },
   "outputs": [],
   "source": [
    "class CNN(torch.nn.Module):\n",
    "\n",
    "    def __init__(self):\n",
    "        super(CNN, self).__init__()\n",
    "        # 첫번째층\n",
    "        # ImgIn shape=(?, 28, 28, 1) -> 1, 100, 1000, 1\n",
    "        #    Conv     -> (?, 28, 28, 32)\n",
    "        #    Pool     -> (?, 14, 14, 32)\n",
    "        self.layer1 = torch.nn.Sequential(\n",
    "            torch.nn.Conv2d(1, 32, kernel_size=13, stride=1, padding=6),\n",
    "            torch.nn.ReLU(),\n",
    "            torch.nn.MaxPool2d(kernel_size=10, stride=10))\n",
    "\n",
    "        # 두번째층\n",
    "        # ImgIn shape=(?, 14, 14, 32)\n",
    "        #    Conv      ->(?, 14, 14, 64)\n",
    "        #    Pool      ->(?, 7, 7, 64)\n",
    "        self.layer2 = torch.nn.Sequential(\n",
    "            torch.nn.Conv2d(32, 64, kernel_size=7, stride=1, padding=3),\n",
    "            torch.nn.ReLU(),\n",
    "            torch.nn.MaxPool2d(kernel_size=5, stride=5))\n",
    "\n",
    "        self.layer3 = torch.nn.Sequential(\n",
    "            torch.nn.Conv2d(64, 128, kernel_size=3, stride=1, padding=1),\n",
    "            torch.nn.ReLU(),\n",
    "            torch.nn.MaxPool2d(kernel_size=2, stride=2))\n",
    "        # 전결합층 7x7x64 inputs -> 10 outputs\n",
    "        self.fc = torch.nn.Linear(1 * 5 * 128, 3, bias=True)\n",
    "\n",
    "        # 전결합층 한정으로 가중치 초기화\n",
    "        torch.nn.init.xavier_uniform_(self.fc.weight)\n",
    "\n",
    "        dropout = torch.nn.Dropout(p=0.2)\n",
    "\n",
    "    def forward(self, x):\n",
    "        out = self.layer1(x)\n",
    "        out = self.layer2(out)\n",
    "        out = self.layer3(out)\n",
    "        out = out.view(out.size(0), -1)   # 전결합층을 위해서 Flatten\n",
    "        out = self.fc(out)\n",
    "        return out"
   ]
  },
  {
   "cell_type": "code",
   "execution_count": 7,
   "metadata": {},
   "outputs": [
    {
     "output_type": "stream",
     "name": "stdout",
     "text": [
      "총 배치의 수 : 40\n"
     ]
    }
   ],
   "source": [
    "# CNN 모델 정의\n",
    "learning_rate = 0.001\n",
    "training_epochs = 50\n",
    "model = CNN()   #.to(device)\n",
    "model = torch.nn.DataParallel(model)\n",
    "model.cuda()\n",
    "criterion = torch.nn.CrossEntropyLoss() #.to(device)\n",
    "optimizer = torch.optim.Adam(model.parameters(), lr=learning_rate)\n",
    "total_batch = len(dataloader)\n",
    "print('총 배치의 수 : {}'.format(total_batch))"
   ]
  },
  {
   "cell_type": "code",
   "execution_count": 8,
   "metadata": {},
   "outputs": [
    {
     "output_type": "stream",
     "name": "stdout",
     "text": [
      "[Epoch:    1] cost = 1.12650645\n",
      "[Epoch:    2] cost = 1.05538595\n",
      "[Epoch:    3] cost = 0.944598675\n",
      "[Epoch:    4] cost = 0.752222538\n",
      "[Epoch:    5] cost = 0.656351984\n",
      "[Epoch:    6] cost = 0.591132045\n",
      "[Epoch:    7] cost = 0.534315407\n",
      "[Epoch:    8] cost = 0.502093852\n",
      "[Epoch:    9] cost = 0.470042914\n",
      "[Epoch:   10] cost = 0.440261364\n",
      "[Epoch:   11] cost = 0.417840987\n",
      "[Epoch:   12] cost = 0.401701421\n",
      "[Epoch:   13] cost = 0.388154447\n",
      "[Epoch:   14] cost = 0.387734532\n",
      "[Epoch:   15] cost = 0.365888417\n",
      "[Epoch:   16] cost = 0.369008601\n",
      "[Epoch:   17] cost = 0.348668098\n",
      "[Epoch:   18] cost = 0.324021786\n",
      "[Epoch:   19] cost = 0.337027013\n",
      "[Epoch:   20] cost = 0.382010281\n",
      "[Epoch:   21] cost = 0.381545156\n",
      "[Epoch:   22] cost = 0.325781822\n",
      "[Epoch:   23] cost = 0.291062802\n",
      "[Epoch:   24] cost = 0.283700019\n",
      "[Epoch:   25] cost = 0.295023412\n",
      "[Epoch:   26] cost = 0.276942998\n",
      "[Epoch:   27] cost = 0.283612102\n",
      "[Epoch:   28] cost = 0.27430293\n",
      "[Epoch:   29] cost = 0.270522803\n",
      "[Epoch:   30] cost = 0.255673021\n",
      "[Epoch:   31] cost = 0.247935414\n",
      "[Epoch:   32] cost = 0.250575751\n",
      "[Epoch:   33] cost = 0.210268259\n",
      "[Epoch:   34] cost = 0.178817779\n",
      "[Epoch:   35] cost = 0.189214304\n",
      "[Epoch:   36] cost = 0.174729273\n",
      "[Epoch:   37] cost = 0.192929611\n",
      "[Epoch:   38] cost = 0.18168509\n",
      "[Epoch:   39] cost = 0.183638602\n",
      "[Epoch:   40] cost = 0.233487085\n",
      "[Epoch:   41] cost = 0.222720414\n",
      "[Epoch:   42] cost = 0.259575695\n",
      "[Epoch:   43] cost = 0.310273409\n",
      "[Epoch:   44] cost = 0.241905496\n",
      "[Epoch:   45] cost = 0.207491785\n",
      "[Epoch:   46] cost = 0.140569478\n",
      "[Epoch:   47] cost = 0.089297004\n",
      "[Epoch:   48] cost = 0.0873896703\n",
      "[Epoch:   49] cost = 0.095401004\n",
      "[Epoch:   50] cost = 0.0686177388\n"
     ]
    }
   ],
   "source": [
    "for epoch in range(training_epochs):\n",
    "    avg_cost = 0\n",
    "\n",
    "    for X, Y in dataloader: # 미니 배치 단위로 꺼내온다. X는 미니 배치, Y는 레이블.\n",
    "        # image is already size of (28x28), no reshape\n",
    "        # label is not one-hot encoded\n",
    "        X = X.reshape(64,1,100,500).to(device)\n",
    "        Y = Y.reshape(64,1)[:,0].to(device, dtype=torch.int64)\n",
    "\n",
    "        optimizer.zero_grad()\n",
    "        hypothesis = model(X)\n",
    "        cost = criterion(hypothesis, Y)\n",
    "        cost.backward()\n",
    "        optimizer.step()\n",
    "\n",
    "        avg_cost += cost / total_batch\n",
    "\n",
    "        writer.add_scalar('training loss', avg_cost, epoch)\n",
    "    print('[Epoch: {:>4}] cost = {:>.9}'.format(epoch + 1, avg_cost))"
   ]
  },
  {
   "cell_type": "code",
   "execution_count": 9,
   "metadata": {},
   "outputs": [
    {
     "output_type": "stream",
     "name": "stdout",
     "text": [
      "Loading testset...\n",
      "time : 7.3628692626953125\n",
      "testset is ready!\n"
     ]
    }
   ],
   "source": [
    "print(\"Loading testset...\")\n",
    "\n",
    "file_list = []\n",
    "for i in range(7):\n",
    "    file_list.append('./separated data1/test'+str(i+1)+'.csv')\n",
    "\n",
    "testset = MFCCDataset(file_list)\n",
    "\n",
    "dataloader = torch.utils.data.DataLoader(\n",
    "   testset, batch_size = batch_size, num_workers = num_workers, drop_last=True\n",
    ")\n",
    "print(\"testset is ready!\")"
   ]
  },
  {
   "cell_type": "code",
   "execution_count": 10,
   "metadata": {},
   "outputs": [
    {
     "output_type": "stream",
     "name": "stdout",
     "text": [
      "[Epoch:   51] cost = 0.271571994\n",
      "[Epoch:   52] cost = 0.391798377\n",
      "[Epoch:   53] cost = 0.483482569\n",
      "[Epoch:   54] cost = 0.555835247\n",
      "[Epoch:   55] cost = 0.615623593\n",
      "[Epoch:   56] cost = 0.666564643\n",
      "[Epoch:   57] cost = 0.710640013\n",
      "[Epoch:   58] cost = 0.754226148\n",
      "[Epoch:   59] cost = 0.800983548\n",
      "[Epoch:   60] cost = 0.850287199\n",
      "[Epoch:   61] cost = 0.899338186\n",
      "[Epoch:   62] cost = 0.948819816\n",
      "[Epoch:   63] cost = 1.02192807\n",
      "[Epoch:   64] cost = 1.11935127\n",
      "[Epoch:   65] cost = 1.18605697\n",
      "[Epoch:   66] cost = 1.23221588\n",
      "[Epoch:   67] cost = 1.26227736\n",
      "[Epoch:   68] cost = 1.28833115\n",
      "[Epoch:   69] cost = 1.30190921\n",
      "[Epoch:   70] cost = 1.30999029\n",
      "[Epoch:   71] cost = 1.31609857\n",
      "[Epoch:   72] cost = 1.32089901\n",
      "[Epoch:   73] cost = 1.32476759\n",
      "[Epoch:   74] cost = 1.32816887\n",
      "[Epoch:   75] cost = 1.33116043\n",
      "[Epoch:   76] cost = 1.33384609\n",
      "[Epoch:   77] cost = 1.33629143\n",
      "[Epoch:   78] cost = 1.33854115\n",
      "[Epoch:   79] cost = 1.34062386\n",
      "[Epoch:   80] cost = 1.34255981\n",
      "[Epoch:   81] cost = 1.34436667\n",
      "[Epoch:   82] cost = 1.34605443\n",
      "[Epoch:   83] cost = 1.3476392\n",
      "[Epoch:   84] cost = 1.34913099\n",
      "[Epoch:   85] cost = 1.35053885\n",
      "[Epoch:   86] cost = 1.35187137\n",
      "[Epoch:   87] cost = 1.35313451\n",
      "[Epoch:   88] cost = 1.35432732\n",
      "[Epoch:   89] cost = 1.35546517\n",
      "[Epoch:   90] cost = 1.35655177\n",
      "[Epoch:   91] cost = 1.35759056\n",
      "[Epoch:   92] cost = 1.35858583\n",
      "[Epoch:   93] cost = 1.35953999\n",
      "[Epoch:   94] cost = 1.36045635\n",
      "[Epoch:   95] cost = 1.36133718\n",
      "[Epoch:   96] cost = 1.362185\n",
      "[Epoch:   97] cost = 1.36300242\n",
      "[Epoch:   98] cost = 1.36379063\n",
      "[Epoch:   99] cost = 1.36455202\n",
      "[Epoch:  100] cost = 1.36528778\n"
     ]
    }
   ],
   "source": [
    "for epoch in range(50,training_epochs+50):\n",
    "\n",
    "    for X, Y in dataloader: # 미니 배치 단위로 꺼내온다. X는 미니 배치, Y는 레이블.\n",
    "        # image is already size of (28x28), no reshape\n",
    "        # label is not one-hot encoded\n",
    "        X = X.reshape(64,1,100,500).to(device)\n",
    "        Y = Y.reshape(64,1)[:,0].to(device, dtype=torch.int64)\n",
    "\n",
    "        optimizer.zero_grad()\n",
    "        hypothesis = model(X)\n",
    "        cost = criterion(hypothesis, Y)\n",
    "        cost.backward()\n",
    "        optimizer.step()\n",
    "\n",
    "        avg_cost += cost / total_batch\n",
    "\n",
    "        writer.add_scalar('training loss', avg_cost, epoch)\n",
    "    print('[Epoch: {:>4}] cost = {:>.9}'.format(epoch + 1, avg_cost))"
   ]
  },
  {
   "cell_type": "code",
   "execution_count": 12,
   "metadata": {},
   "outputs": [
    {
     "output_type": "stream",
     "name": "stdout",
     "text": [
      "Accuracy: 0.9999999403953552\n"
     ]
    }
   ],
   "source": [
    "with torch.no_grad():\n",
    "    X_test = testset.data.view(len(testset), 1, 100, 500).float().to(device)\n",
    "    Y_test = testset.label.to(device, dtype=torch.int64)[:,0]\n",
    "\n",
    "    prediction = model(X_test)\n",
    "    correct_prediction = torch.argmax(prediction, 1) == Y_test\n",
    "    accuracy = correct_prediction.float().mean()\n",
    "    print('Accuracy:', accuracy.item())"
   ]
  }
 ]
}