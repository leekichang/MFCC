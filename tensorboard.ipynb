{
 "metadata": {
  "language_info": {
   "codemirror_mode": {
    "name": "ipython",
    "version": 3
   },
   "file_extension": ".py",
   "mimetype": "text/x-python",
   "name": "python",
   "nbconvert_exporter": "python",
   "pygments_lexer": "ipython3",
   "version": "3.8.5-final"
  },
  "orig_nbformat": 2,
  "kernelspec": {
   "name": "kc",
   "display_name": "KC",
   "language": "python"
  }
 },
 "nbformat": 4,
 "nbformat_minor": 2,
 "cells": [
  {
   "cell_type": "code",
   "execution_count": 1,
   "metadata": {},
   "outputs": [],
   "source": [
    "import math\n",
    "from tensorboardX import SummaryWriter\n",
    "\n",
    "writer = SummaryWriter(logdir='./scalar/sin&cos')\n",
    "\n",
    "for step in range(-360, 360):\n",
    "    angle_rad = step*math.pi/180\n",
    "    writer.add_scalars('sin and cos', {'sin':math.sin(angle_rad), 'cos':math.cos(angle_rad)}, step)\n",
    "\n",
    "writer.close()\n",
    "\n",
    "#터미널에 tensorboard --logdir './scalar/sin&cos'하면 실행됨.\n"
   ]
  }
 ]
}