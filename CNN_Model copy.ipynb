{
 "metadata": {
  "language_info": {
   "codemirror_mode": {
    "name": "ipython",
    "version": 3
   },
   "file_extension": ".py",
   "mimetype": "text/x-python",
   "name": "python",
   "nbconvert_exporter": "python",
   "pygments_lexer": "ipython3",
   "version": "3.8.5-final"
  },
  "orig_nbformat": 2,
  "kernelspec": {
   "name": "kc",
   "display_name": "KC",
   "language": "python"
  }
 },
 "nbformat": 4,
 "nbformat_minor": 2,
 "cells": [
  {
   "source": [
    "# 1. File Loading"
   ],
   "cell_type": "markdown",
   "metadata": {}
  },
  {
   "cell_type": "code",
   "execution_count": 1,
   "metadata": {
    "tags": []
   },
   "outputs": [],
   "source": [
    "import torch\n",
    "import pandas as pd\n",
    "import numpy as np\n",
    "import os\n",
    "\n",
    "# load data\n",
    "from torch.utils.data import DataLoader\n",
    "from torchvision import datasets, transforms\n",
    "\n",
    "# train\n",
    "from torch import nn\n",
    "from torch.nn import functional as F\n",
    "import torch.nn.init\n",
    "\n",
    "# visualization\n",
    "import matplotlib.pyplot as plt\n"
   ]
  },
  {
   "cell_type": "code",
   "execution_count": 2,
   "metadata": {},
   "outputs": [],
   "source": [
    "batch_size = 32\n",
    "num_workers = 40\n",
    "train_set = 'slim_train_set1.csv'\n",
    "test_set = 'slim_test_set1.csv'"
   ]
  },
  {
   "cell_type": "code",
   "execution_count": 3,
   "metadata": {},
   "outputs": [
    {
     "output_type": "stream",
     "name": "stdout",
     "text": [
      "Loading data...\n",
      "data is ready!\n"
     ]
    }
   ],
   "source": [
    "class MFCCDataset(torch.utils.data.Dataset):\n",
    "    def __init__(self, csv_file):\n",
    "        self.raw = pd.read_csv(csv_file, header=None, sep=r'\\s*,\\s*')\n",
    "        self.label = torch.IntTensor(np.array(self.raw[0].values).reshape(len(self.raw[0].values), 1))\n",
    "        self.len = len(self.label)\n",
    "        self.data = torch.Tensor(np.array(self.raw.loc[:,1:]).reshape(len(self.label),100,500))\n",
    "\n",
    "    def __len__(self):\n",
    "        return self.len\n",
    "\n",
    "    def __getitem__(self, idx):\n",
    "        return self.data[idx], self.label[idx]\n",
    "\n",
    "print(\"Loading data...\")\n",
    "\n",
    "dataset = MFCCDataset(train_set)\n",
    "\n",
    "dataloader = torch.utils.data.DataLoader(\n",
    "   dataset, batch_size = batch_size, num_workers = num_workers, drop_last=True\n",
    ")\n",
    "print(\"data is ready!\")"
   ]
  },
  {
   "source": [
    "# 2. Neural Network"
   ],
   "cell_type": "markdown",
   "metadata": {}
  },
  {
   "cell_type": "code",
   "execution_count": 8,
   "metadata": {
    "tags": []
   },
   "outputs": [
    {
     "output_type": "stream",
     "name": "stdout",
     "text": [
      "다음 기기로 학습합니다: cuda\n"
     ]
    }
   ],
   "source": [
    "import random\n",
    "USE_CUDA = torch.cuda.is_available() # GPU를 사용가능하면 True, 아니라면 False를 리턴\n",
    "device = torch.device(\"cuda\" if USE_CUDA else \"cpu\") # GPU 사용 가능하면 사용하고 아니면 CPU 사용\\\n",
    "print(\"다음 기기로 학습합니다:\", device)\n",
    "random.seed(777)\n",
    "torch.manual_seed(777)\n",
    "if device == 'cuda':\n",
    "    torch.cuda.manual_seed_all(777)"
   ]
  },
  {
   "cell_type": "code",
   "execution_count": 4,
   "metadata": {
    "tags": []
   },
   "outputs": [],
   "source": [
    "class CNN(torch.nn.Module):\n",
    "\n",
    "    def __init__(self):\n",
    "        super(CNN, self).__init__()\n",
    "        # 첫번째층\n",
    "        # ImgIn shape=(?, 28, 28, 1) -> 1, 100, 1000, 1\n",
    "        #    Conv     -> (?, 28, 28, 32)\n",
    "        #    Pool     -> (?, 14, 14, 32)\n",
    "        self.layer1 = torch.nn.Sequential(\n",
    "            torch.nn.Conv2d(1, 32, kernel_size=13, stride=1, padding=6),\n",
    "            torch.nn.ReLU(),\n",
    "            torch.nn.MaxPool2d(kernel_size=10, stride=10))\n",
    "\n",
    "        # 두번째층\n",
    "        # ImgIn shape=(?, 14, 14, 32)\n",
    "        #    Conv      ->(?, 14, 14, 64)\n",
    "        #    Pool      ->(?, 7, 7, 64)\n",
    "        self.layer2 = torch.nn.Sequential(\n",
    "            torch.nn.Conv2d(32, 64, kernel_size=7, stride=1, padding=3),\n",
    "            torch.nn.ReLU(),\n",
    "            torch.nn.MaxPool2d(kernel_size=5, stride=5))\n",
    "\n",
    "        self.layer3 = torch.nn.Sequential(\n",
    "            torch.nn.Conv2d(64, 128, kernel_size=3, stride=1, padding=1),\n",
    "            torch.nn.ReLU(),\n",
    "            torch.nn.MaxPool2d(kernel_size=2, stride=2))\n",
    "        # 전결합층 7x7x64 inputs -> 10 outputs\n",
    "        self.fc = torch.nn.Linear(1 * 5 * 128, 3, bias=True)\n",
    "\n",
    "        # 전결합층 한정으로 가중치 초기화\n",
    "        torch.nn.init.xavier_uniform_(self.fc.weight)\n",
    "\n",
    "    def forward(self, x):\n",
    "        out = self.layer1(x)\n",
    "        out = self.layer2(out)\n",
    "        out = self.layer3(out)\n",
    "        out = out.view(out.size(0), -1)   # 전결합층을 위해서 Flatten\n",
    "        out = self.fc(out)\n",
    "        return out"
   ]
  },
  {
   "cell_type": "code",
   "execution_count": 12,
   "metadata": {},
   "outputs": [
    {
     "output_type": "stream",
     "name": "stdout",
     "text": [
      "총 배치의 수 : 15\n"
     ]
    }
   ],
   "source": [
    "# CNN 모델 정의\n",
    "learning_rate = 0.001\n",
    "training_epochs = 25\n",
    "model = CNN()   #.to(device)\n",
    "model = torch.nn.DataParallel(model)\n",
    "model.cuda()\n",
    "criterion = torch.nn.CrossEntropyLoss() #.to(device)\n",
    "optimizer = torch.optim.Adam(model.parameters(), lr=learning_rate)\n",
    "total_batch = len(dataloader)\n",
    "print('총 배치의 수 : {}'.format(total_batch))"
   ]
  },
  {
   "cell_type": "code",
   "execution_count": 13,
   "metadata": {},
   "outputs": [
    {
     "output_type": "stream",
     "name": "stdout",
     "text": [
      "[Epoch:    1] cost = 0.919757307\n",
      "[Epoch:    2] cost = 0.661376476\n",
      "[Epoch:    3] cost = 0.649295509\n",
      "[Epoch:    4] cost = 0.618368149\n",
      "[Epoch:    5] cost = 0.586740077\n",
      "[Epoch:    6] cost = 0.554700434\n",
      "[Epoch:    7] cost = 0.475339383\n",
      "[Epoch:    8] cost = 0.361601502\n",
      "[Epoch:    9] cost = 0.262582839\n",
      "[Epoch:   10] cost = 0.202471882\n",
      "[Epoch:   11] cost = 0.15085724\n",
      "[Epoch:   12] cost = 0.118428625\n",
      "[Epoch:   13] cost = 0.102875993\n",
      "[Epoch:   14] cost = 0.0848935843\n",
      "[Epoch:   15] cost = 0.113564141\n",
      "[Epoch:   16] cost = 0.107315212\n",
      "[Epoch:   17] cost = 0.138783321\n",
      "[Epoch:   18] cost = 0.2917597\n",
      "[Epoch:   19] cost = 0.256675988\n",
      "[Epoch:   20] cost = 0.166735902\n",
      "[Epoch:   21] cost = 0.0556648001\n",
      "[Epoch:   22] cost = 0.0269722976\n",
      "[Epoch:   23] cost = 0.0205960218\n",
      "[Epoch:   24] cost = 0.020060081\n",
      "[Epoch:   25] cost = 0.0223539118\n"
     ]
    }
   ],
   "source": [
    "for epoch in range(training_epochs):\n",
    "    avg_cost = 0\n",
    "\n",
    "    for X, Y in dataloader: # 미니 배치 단위로 꺼내온다. X는 미니 배치, Y느 ㄴ레이블.\n",
    "        # image is already size of (28x28), no reshape\n",
    "        # label is not one-hot encoded\n",
    "        X = X.reshape(32,1,100,500).to(device)\n",
    "        Y = Y.reshape(32,1)[:,0].to(device, dtype=torch.int64)\n",
    "\n",
    "        optimizer.zero_grad()\n",
    "        hypothesis = model(X)\n",
    "        cost = criterion(hypothesis, Y)\n",
    "        cost.backward()\n",
    "        optimizer.step()\n",
    "\n",
    "        avg_cost += cost / total_batch\n",
    "\n",
    "    print('[Epoch: {:>4}] cost = {:>.9}'.format(epoch + 1, avg_cost))"
   ]
  },
  {
   "cell_type": "code",
   "execution_count": 14,
   "metadata": {},
   "outputs": [
    {
     "output_type": "stream",
     "name": "stdout",
     "text": [
      "Loading testset...\n",
      "testset is ready!\n"
     ]
    }
   ],
   "source": [
    "print(\"Loading testset...\")\n",
    "\n",
    "testset = MFCCDataset(test_set)\n",
    "\n",
    "dataloader = torch.utils.data.DataLoader(\n",
    "   testset, batch_size = batch_size, num_workers = num_workers, drop_last=True\n",
    ")\n",
    "print(\"testset is ready!\")"
   ]
  },
  {
   "cell_type": "code",
   "execution_count": 15,
   "metadata": {},
   "outputs": [
    {
     "output_type": "stream",
     "name": "stdout",
     "text": [
      "Accuracy: 0.9833679795265198\n"
     ]
    }
   ],
   "source": [
    "with torch.no_grad():\n",
    "    X_test = testset.data.view(len(testset), 1, 100, 500).float().to(device)\n",
    "    Y_test = testset.label.to(device, dtype=torch.int64)[:,0]\n",
    "\n",
    "    prediction = model(X_test)\n",
    "    correct_prediction = torch.argmax(prediction, 1) == Y_test\n",
    "    accuracy = correct_prediction.float().mean()\n",
    "    print('Accuracy:', accuracy.item())"
   ]
  }
 ]
}