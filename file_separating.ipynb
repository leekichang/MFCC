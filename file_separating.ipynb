{
 "metadata": {
  "language_info": {
   "codemirror_mode": {
    "name": "ipython",
    "version": 3
   },
   "file_extension": ".py",
   "mimetype": "text/x-python",
   "name": "python",
   "nbconvert_exporter": "python",
   "pygments_lexer": "ipython3",
   "version": "3.8.5-final"
  },
  "orig_nbformat": 2,
  "kernelspec": {
   "name": "kc",
   "display_name": "KC",
   "language": "python"
  }
 },
 "nbformat": 4,
 "nbformat_minor": 2,
 "cells": [
  {
   "cell_type": "code",
   "execution_count": 4,
   "metadata": {},
   "outputs": [],
   "source": [
    "with open('slim_train_set3.csv', 'r') as f:\n",
    "    csvfile = f.readlines()\n",
    "linesPerFile = 100\n",
    "filename = 1\n",
    "# this is better then your former loop, it loops in 1000000 lines a peice,\n",
    "# instead of incrementing 1000000 times and only write on the millionth one\n",
    "for i in range(0,len(csvfile),linesPerFile):\n",
    "    with open('./separated data1/'+str(filename) + '.csv', 'w+') as f:\n",
    "        if filename > 1: # this is the second or later file, we need to write the\n",
    "            f.write(csvfile[0]) # header again if 2nd.... file\n",
    "        f.writelines(csvfile[i:i+linesPerFile])\n",
    "    filename += 1"
   ]
  }
 ]
}