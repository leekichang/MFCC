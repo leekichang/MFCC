{
 "metadata": {
  "language_info": {
   "codemirror_mode": {
    "name": "ipython",
    "version": 3
   },
   "file_extension": ".py",
   "mimetype": "text/x-python",
   "name": "python",
   "nbconvert_exporter": "python",
   "pygments_lexer": "ipython3",
   "version": "3.8.5-final"
  },
  "orig_nbformat": 2,
  "kernelspec": {
   "name": "kc",
   "display_name": "KC",
   "language": "python"
  }
 },
 "nbformat": 4,
 "nbformat_minor": 2,
 "cells": [
  {
   "source": [
    "# 1. File Loading"
   ],
   "cell_type": "markdown",
   "metadata": {}
  },
  {
   "cell_type": "code",
   "execution_count": 1,
   "metadata": {},
   "outputs": [
    {
     "output_type": "stream",
     "name": "stdout",
     "text": [
      "file loading done\n"
     ]
    }
   ],
   "source": [
    "import os, glob\n",
    "import librosa\n",
    "import librosa.display\n",
    "import numpy as np\n",
    "import matplotlib.pyplot as plt\n",
    "from matplotlib import cm\n",
    "import sklearn.preprocessing\n",
    "import multiprocessing\n",
    "from functools import partial\n",
    "\n",
    "def load_file(path_dir):\n",
    "    files = os.listdir(path_dir)\n",
    "    return [file for file in files if file.endswith(\".wav\")]\n",
    "\n",
    "carhorn_path_dir = \"./audio/car_horn/\"\n",
    "speech_path_dir = \"./audio/Malespeech,manspeaking/\"\n",
    "music_path_dir = \"./audio/Electronicmusic/\"\n",
    "\n",
    "carhorn_file_list = []\n",
    "speech_file_list = []\n",
    "music_file_list = []\n",
    "\n",
    "for name in load_file(carhorn_path_dir):\n",
    "    carhorn_file_list.append(carhorn_path_dir+name)\n",
    "\n",
    "for name in load_file(speech_path_dir):\n",
    "    speech_file_list.append(speech_path_dir+name)\n",
    "\n",
    "for name in load_file(music_path_dir):\n",
    "    music_file_list.append(music_path_dir+name)\n",
    "\n",
    "print(\"file loading done\")"
   ]
  },
  {
   "source": [
    "# 2. MFCC"
   ],
   "cell_type": "markdown",
   "metadata": {}
  },
  {
   "cell_type": "code",
   "execution_count": 2,
   "metadata": {},
   "outputs": [
    {
     "output_type": "stream",
     "name": "stdout",
     "text": [
      "make carhorn_list done\n",
      "make speech_list done\n",
      "make music_list done\n",
      "MFCC done\n"
     ]
    }
   ],
   "source": [
    "def mfcc(file):\n",
    "    mfcc_list=[]\n",
    "    audio, sr = librosa.load(file, sr=None)\n",
    "    hop_length = 256\n",
    "    n_fft = 1024\n",
    "    n_mfcc = 20\n",
    "    mfcc = librosa.feature.mfcc(audio, sr=44100, n_mfcc=n_mfcc, n_fft=n_fft, hop_length=hop_length)\n",
    "    mfcc = sklearn.preprocessing.scale(mfcc, axis=1)\n",
    "    pad2d = lambda a, i: a[:, 0:i] if a.shape[1] > i else np.hstack((a, np.zeros((a.shape[0], i-a.shape[1]))))\n",
    "    mfcc_list.append(pad2d(mfcc, 100))\n",
    "    return mfcc_list\n",
    "\n",
    "pool = multiprocessing.Pool(processes = 100)\n",
    "temp1 = pool.map(mfcc, carhorn_file_list)\n",
    "pool.close()\n",
    "pool.join()\n",
    "carhorn_list = []\n",
    "for i in range(len(temp1)):\n",
    "    carhorn_list.append(temp1[i][0])\n",
    "print(\"make carhorn_list done\")\n",
    "\n",
    "pool = multiprocessing.Pool(processes = 100)\n",
    "temp2 = pool.map(mfcc, speech_file_list)\n",
    "pool.close()\n",
    "pool.join()\n",
    "speech_list = []\n",
    "for i in range(len(temp2)):\n",
    "    speech_list.append(temp2[i][0])\n",
    "print(\"make speech_list done\")\n",
    "\n",
    "pool = multiprocessing.Pool(processes = 100)\n",
    "temp3 = pool.map(mfcc, music_file_list)\n",
    "pool.close()\n",
    "pool.join()\n",
    "music_list = []\n",
    "for i in range(len(temp3)):\n",
    "    music_list.append(temp3[i][0])\n",
    "print(\"make music_list done\")\n",
    "\n",
    "print(\"MFCC done\")"
   ]
  },
  {
   "source": [
    "# 3.Making Dataset"
   ],
   "cell_type": "markdown",
   "metadata": {}
  },
  {
   "cell_type": "code",
   "execution_count": 3,
   "metadata": {},
   "outputs": [
    {
     "output_type": "stream",
     "name": "stdout",
     "text": [
      "labeling & reshaping done\n"
     ]
    }
   ],
   "source": [
    "def reshape_data(data):\n",
    "    return list(np.ravel(data))\n",
    "\n",
    "def label_data(label, data):\n",
    "    return [label]+data\n",
    "\n",
    "flat_speech_data = []\n",
    "for data in speech_list:\n",
    "    flat_speech_data.append(label_data(0, reshape_data(data)))\n",
    "\n",
    "flat_carhorn_data = []\n",
    "for data in carhorn_list:\n",
    "    flat_carhorn_data.append(label_data(1, reshape_data(data)))\n",
    "\n",
    "flat_music_data = []\n",
    "for data in music_list:\n",
    "    flat_music_data.append(label_data(2, reshape_data(data)))\n",
    "\n",
    "print(\"labeling & reshaping done\")\n",
    "# for i in range(len(flat_speech_data)):\n",
    "#     flat_speech_data[i].insert(0, 0)\n",
    "\n",
    "# labeled_carhorn_list = []\n",
    "# for data in carhorn_list:\n",
    "#     labeled_carhorn_list.append(labeling(1,data))\n",
    "\n",
    "# temp = []\n",
    "# pool = multiprocessing.Pool(processes = 100)\n",
    "# labeling_carhorn(labeling, label=1)\n",
    "# temp.append(pool.map(labeling_carhorn, carhorn_list))\n",
    "# pool.close()\n",
    "# pool.join()\n",
    "# print(\"labeling done\")"
   ]
  },
  {
   "source": [
    "# 4. Write test and training set in .csv"
   ],
   "cell_type": "markdown",
   "metadata": {}
  },
  {
   "cell_type": "code",
   "execution_count": 4,
   "metadata": {},
   "outputs": [
    {
     "output_type": "stream",
     "name": "stdout",
     "text": [
      "writing speech_mfcc.csv start\n",
      "writing speech_mfcc.csv finish\n",
      "writing carhorn_mfcc.csv start\n",
      "writing carhorn_mfcc.csv finish\n",
      "writing music_mfcc.csv start\n",
      "writing music_mfcc.csv finish\n"
     ]
    }
   ],
   "source": [
    "import csv\n",
    "\n",
    "print(\"writing speech_mfcc.csv start\")\n",
    "\n",
    "with open('speech_mfcc.csv', 'w', newline='') as sf:\n",
    "    writer = csv.writer(sf)\n",
    "    for data in flat_speech_data:\n",
    "        writer.writerow(data)\n",
    "\n",
    "print(\"writing speech_mfcc.csv finish\")\n",
    "\n",
    "print(\"writing carhorn_mfcc.csv start\")\n",
    "\n",
    "with open('carhorn_mfcc.csv', 'w', newline='') as cf:\n",
    "    writer = csv.writer(cf)\n",
    "    for data in flat_carhorn_data:\n",
    "        writer.writerow(data)\n",
    "\n",
    "print(\"writing carhorn_mfcc.csv finish\")\n",
    "\n",
    "print(\"writing music_mfcc.csv start\")\n",
    "\n",
    "with open('music_mfcc.csv', 'w', newline='') as cf:\n",
    "    writer = csv.writer(cf)\n",
    "    for data in flat_music_data:\n",
    "        writer.writerow(data)\n",
    "\n",
    "print(\"writing music_mfcc.csv finish\")"
   ]
  },
  {
   "cell_type": "code",
   "execution_count": 5,
   "metadata": {},
   "outputs": [
    {
     "output_type": "stream",
     "name": "stdout",
     "text": [
      "writing first_dataset.csv start\n",
      "writing first_dataset.csv finish\n"
     ]
    }
   ],
   "source": [
    "import random\n",
    "dataset = flat_carhorn_data+flat_speech_data+flat_music_data\n",
    "random.shuffle(dataset)\n",
    "\n",
    "print(\"writing first_dataset.csv start\")\n",
    "\n",
    "with open('20*100_dataset.csv', 'w', newline='') as df:\n",
    "    writer = csv.writer(df)\n",
    "    for data in dataset:\n",
    "        writer.writerow(data)\n",
    "\n",
    "print(\"writing first_dataset.csv finish\")"
   ]
  },
  {
   "cell_type": "code",
   "execution_count": 6,
   "metadata": {},
   "outputs": [
    {
     "output_type": "stream",
     "name": "stdout",
     "text": [
      "writing train_set4.csv start\n",
      "writing train_set4.csv finish\n",
      "writing test_set4.csv start\n",
      "writing test_set4.csv finish\n"
     ]
    }
   ],
   "source": [
    "print(\"writing train_set4.csv start\")\n",
    "with open('train_set4.csv', 'w', newline='') as trainf:\n",
    "    writer = csv.writer(trainf)\n",
    "    for i in range(0, int(len(dataset)*8/10)):\n",
    "        writer.writerow(dataset[i])\n",
    "print(\"writing train_set4.csv finish\")\n",
    "\n",
    "print(\"writing test_set4.csv start\")\n",
    "with open('test_set4.csv', 'w', newline='') as testf:\n",
    "    writer = csv.writer(testf)\n",
    "    for i in range(int(len(dataset)*8/10), len(dataset)):\n",
    "        writer.writerow(dataset[i])\n",
    "print(\"writing test_set4.csv finish\")"
   ]
  }
 ]
}